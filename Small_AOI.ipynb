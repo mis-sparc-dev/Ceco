{
 "cells": [
  {
   "cell_type": "code",
   "execution_count": 1,
   "id": "ee03aba2-d946-49d9-9ff0-68e1b5d40c03",
   "metadata": {
    "scrolled": true
   },
   "outputs": [
    {
     "data": {
      "text/html": [
       "<div>\n",
       "<style scoped>\n",
       "    .dataframe tbody tr th:only-of-type {\n",
       "        vertical-align: middle;\n",
       "    }\n",
       "\n",
       "    .dataframe tbody tr th {\n",
       "        vertical-align: top;\n",
       "    }\n",
       "\n",
       "    .dataframe thead th {\n",
       "        text-align: right;\n",
       "    }\n",
       "</style>\n",
       "<table border=\"1\" class=\"dataframe\">\n",
       "  <thead>\n",
       "    <tr style=\"text-align: right;\">\n",
       "      <th></th>\n",
       "      <th>ID</th>\n",
       "      <th>PLOT_CODE1</th>\n",
       "      <th>MPLOT_NO</th>\n",
       "      <th>VILL_CODE</th>\n",
       "      <th>VILL_NAME</th>\n",
       "      <th>KHATA_NO</th>\n",
       "      <th>PLOT_NO</th>\n",
       "      <th>TAHASIL_CD</th>\n",
       "      <th>TAHASIL</th>\n",
       "      <th>TOT_AREA</th>\n",
       "      <th>RSGIS_DSN</th>\n",
       "      <th>LU_CLASS</th>\n",
       "      <th>LAND_USE</th>\n",
       "      <th>PADDY</th>\n",
       "      <th>CROP_NAME</th>\n",
       "      <th>SURV_DT</th>\n",
       "      <th>geometry</th>\n",
       "    </tr>\n",
       "  </thead>\n",
       "  <tbody>\n",
       "    <tr>\n",
       "      <th>0</th>\n",
       "      <td>29210</td>\n",
       "      <td>0812008-1</td>\n",
       "      <td>1</td>\n",
       "      <td>0812008</td>\n",
       "      <td>Tala</td>\n",
       "      <td>73</td>\n",
       "      <td>1</td>\n",
       "      <td>0812</td>\n",
       "      <td>Boipariguda</td>\n",
       "      <td>0.766</td>\n",
       "      <td>Y</td>\n",
       "      <td>Agriculture</td>\n",
       "      <td>NaN</td>\n",
       "      <td>Y</td>\n",
       "      <td>Rice</td>\n",
       "      <td>NaN</td>\n",
       "      <td>POLYGON ((82.48427 18.75243, 82.48426 18.75240...</td>\n",
       "    </tr>\n",
       "  </tbody>\n",
       "</table>\n",
       "</div>"
      ],
      "text/plain": [
       "      ID PLOT_CODE1 MPLOT_NO VILL_CODE VILL_NAME KHATA_NO PLOT_NO TAHASIL_CD  \\\n",
       "0  29210  0812008-1        1   0812008      Tala       73       1       0812   \n",
       "\n",
       "       TAHASIL  TOT_AREA RSGIS_DSN     LU_CLASS LAND_USE PADDY CROP_NAME  \\\n",
       "0  Boipariguda     0.766         Y  Agriculture      NaN     Y      Rice   \n",
       "\n",
       "  SURV_DT                                           geometry  \n",
       "0     NaN  POLYGON ((82.48427 18.75243, 82.48426 18.75240...  "
      ]
     },
     "execution_count": 1,
     "metadata": {},
     "output_type": "execute_result"
    }
   ],
   "source": [
    "import pandas as pd\n",
    "import geopandas as gpd\n",
    "\n",
    "path = r\"D:\\CECO\\Cad_Data\\Koraput_cad_plot\\Boipariguda_Crops_v1.shp\"\n",
    "\n",
    "# Load the training sample data\n",
    "Boipariguda = gpd.read_file(path)\n",
    "Boipariguda.head(1)"
   ]
  },
  {
   "cell_type": "code",
   "execution_count": 2,
   "id": "bd8a4883-1dc0-486a-8dbe-8ea29bbd06c3",
   "metadata": {},
   "outputs": [
    {
     "data": {
      "text/plain": [
       "(45697, 17)"
      ]
     },
     "execution_count": 2,
     "metadata": {},
     "output_type": "execute_result"
    }
   ],
   "source": [
    "Boipariguda.shape"
   ]
  },
  {
   "cell_type": "code",
   "execution_count": 3,
   "id": "6d38dfcc-1d89-47c0-9a0a-4a01632c4854",
   "metadata": {},
   "outputs": [
    {
     "name": "stdout",
     "output_type": "stream",
     "text": [
      "Number of unique villages: 197\n"
     ]
    }
   ],
   "source": [
    "num_unique_villages = Boipariguda['VILL_NAME'].nunique()\n",
    "print(f\"Number of unique villages: {num_unique_villages}\")\n"
   ]
  },
  {
   "cell_type": "code",
   "execution_count": null,
   "id": "b61d1307-fca2-44b9-8233-692f83783ac8",
   "metadata": {},
   "outputs": [],
   "source": []
  },
  {
   "cell_type": "code",
   "execution_count": null,
   "id": "6030f908-1ca3-4a12-86f8-c3ca58cfd28b",
   "metadata": {},
   "outputs": [],
   "source": []
  },
  {
   "cell_type": "code",
   "execution_count": null,
   "id": "ad06f371-a5e2-4432-bc8e-4aa2380063bc",
   "metadata": {},
   "outputs": [],
   "source": []
  },
  {
   "cell_type": "code",
   "execution_count": null,
   "id": "7c35d079-103b-4b37-930d-94bab7371456",
   "metadata": {},
   "outputs": [],
   "source": []
  },
  {
   "cell_type": "code",
   "execution_count": null,
   "id": "ee69a9e6-3789-4080-bfc2-24642c4db472",
   "metadata": {},
   "outputs": [],
   "source": []
  },
  {
   "cell_type": "code",
   "execution_count": 3,
   "id": "84c4f455-381d-45e4-a810-1895b5858e9e",
   "metadata": {},
   "outputs": [
    {
     "name": "stdout",
     "output_type": "stream",
     "text": [
      "VILL_NAME\n",
      "Kalara        1363\n",
      "Beragan       1340\n",
      "Kakalpara     1252\n",
      "Pendapara     1251\n",
      "Kendupada     1199\n",
      "              ... \n",
      "Patiapadar       1\n",
      "Lalari           1\n",
      "Mantriamb        1\n",
      "Talapadar        1\n",
      "Gadaghat         1\n",
      "Name: count, Length: 197, dtype: int64\n"
     ]
    }
   ],
   "source": [
    "print(Boipariguda['VILL_NAME'].value_counts(dropna=False))"
   ]
  },
  {
   "cell_type": "code",
   "execution_count": 4,
   "id": "4260d503-0022-4833-8314-71072034723a",
   "metadata": {},
   "outputs": [
    {
     "name": "stdout",
     "output_type": "stream",
     "text": [
      "VILL_NAME\n",
      "Beragan             1340\n",
      "Kakalpara           1252\n",
      "Kendupada           1199\n",
      "Chandrapada         1192\n",
      "Santeiput           1148\n",
      "Bhejiguda           1110\n",
      "Kurukuti            1037\n",
      "Ramapur              968\n",
      "Dorapur              967\n",
      "Ganiput              922\n",
      "Minarbali            856\n",
      "Chikima              773\n",
      "Khemabeda            692\n",
      "Pokulpada            641\n",
      "Mahantaput           545\n",
      "Garput               427\n",
      "Paliguda             417\n",
      "Pandipara            355\n",
      "Sugapadar            317\n",
      "Batriput             174\n",
      "Betabhata            154\n",
      "Pangiput             153\n",
      "Dokariguda           101\n",
      "Podapadar Colony      68\n",
      "Limbaput              52\n",
      "Name: count, dtype: int64\n"
     ]
    }
   ],
   "source": [
    "import pandas as pd\n",
    "\n",
    "# List of village names to filter\n",
    "villages_to_filter = [\n",
    "    \"Baligur\", \"Batriput\", \"Beragan\", \"Betabhata\", \"Bhejiguda\", \"Chandrapada\",\n",
    "    \"Chikima\", \"Dokariguda\", \"Dorapur\", \"Ganiput\", \"Garput\", \"Kakalpara\", \"Kendupada\",\n",
    "    \"Khemabeda\", \"Kurukuti\", \"Limbaput\", \"Mahantaput\", \"Maun\", \"Maunl\", \"Minarbali\", \n",
    "    \"Minarball\", \"Paliguda\", \"Pandipara\", \"Pangiput\", \"Pokulpada\", \"Podapadar Colony\",\n",
    "    \"Ramapur\", \"Santeiput\", \"Sugapadar\", \"Tale\"\n",
    "]\n",
    "\n",
    "# Filtering the dataframe based on the village names\n",
    "filtered_df = Boipariguda[Boipariguda['VILL_NAME'].isin(villages_to_filter)]\n",
    "\n",
    "# Display the count of villages\n",
    "print(filtered_df['VILL_NAME'].value_counts(dropna=False))\n"
   ]
  },
  {
   "cell_type": "code",
   "execution_count": 5,
   "id": "3d72cd93-f155-44b6-87d2-454b36ad6614",
   "metadata": {},
   "outputs": [
    {
     "name": "stderr",
     "output_type": "stream",
     "text": [
      "C:\\Users\\WORKSTATION\\anaconda3\\envs\\gee\\Lib\\site-packages\\geopandas\\geodataframe.py:1528: SettingWithCopyWarning: \n",
      "A value is trying to be set on a copy of a slice from a DataFrame.\n",
      "Try using .loc[row_indexer,col_indexer] = value instead\n",
      "\n",
      "See the caveats in the documentation: https://pandas.pydata.org/pandas-docs/stable/user_guide/indexing.html#returning-a-view-versus-a-copy\n",
      "  super().__setitem__(key, value)\n"
     ]
    },
    {
     "name": "stdout",
     "output_type": "stream",
     "text": [
      "Shapefile saved at: D:\\CECO\\Boipariguda\\small_aoi\\Small_sample_Boipariguda.shp\n"
     ]
    }
   ],
   "source": [
    "shapefile_path=r\"D:\\CECO\\Boipariguda\\small_aoi\\Small_sample_Boipariguda.shp\"\n",
    "\n",
    "# Convert datetime fields to string format (YYYY-MM-DD)\n",
    "filtered_df[\"SURV_DT\"] = filtered_df[\"SURV_DT\"].astype(str)\n",
    "\n",
    "# Now save the shapefile\n",
    "filtered_df.to_file(shapefile_path, driver=\"ESRI Shapefile\")\n",
    "\n",
    "print(f\"Shapefile saved at: {shapefile_path}\")\n",
    "\n",
    "\n",
    "\n"
   ]
  },
  {
   "cell_type": "code",
   "execution_count": null,
   "id": "842b6d7a-8656-4fed-876b-c723413b532b",
   "metadata": {},
   "outputs": [],
   "source": []
  },
  {
   "cell_type": "code",
   "execution_count": null,
   "id": "9fc5581b-4880-4dc6-981a-a22a4c6dc422",
   "metadata": {},
   "outputs": [],
   "source": []
  },
  {
   "cell_type": "code",
   "execution_count": null,
   "id": "efb224f9-fb1b-4b4d-9a24-529e7bd7cae6",
   "metadata": {},
   "outputs": [],
   "source": []
  },
  {
   "cell_type": "code",
   "execution_count": null,
   "id": "7b190447-f67b-46bd-a22f-e74a032008a2",
   "metadata": {},
   "outputs": [],
   "source": []
  },
  {
   "cell_type": "code",
   "execution_count": null,
   "id": "a6c8bcdc-ac19-4447-9c63-0838d81e3585",
   "metadata": {},
   "outputs": [],
   "source": []
  },
  {
   "cell_type": "code",
   "execution_count": null,
   "id": "b91cdf6c-82e2-4658-96c2-8fd5ac686c9c",
   "metadata": {},
   "outputs": [],
   "source": []
  },
  {
   "cell_type": "code",
   "execution_count": null,
   "id": "a2416a41-ea44-4f9b-8c34-25d7d66a6b24",
   "metadata": {},
   "outputs": [],
   "source": []
  },
  {
   "cell_type": "code",
   "execution_count": null,
   "id": "076ebe13-f66b-4e68-b4f7-069f8923682b",
   "metadata": {},
   "outputs": [],
   "source": []
  },
  {
   "cell_type": "code",
   "execution_count": null,
   "id": "100b9ab6-3d2e-45c3-826d-7ad4d5130632",
   "metadata": {},
   "outputs": [],
   "source": []
  },
  {
   "cell_type": "code",
   "execution_count": 6,
   "id": "21be5ac1-7a48-411c-8db6-c6854cafbb25",
   "metadata": {},
   "outputs": [
    {
     "name": "stdout",
     "output_type": "stream",
     "text": [
      "CRS of 8L points: EPSG:32645\n",
      "CRS of 1L points: EPSG:32645\n"
     ]
    }
   ],
   "source": [
    "import geopandas as gpd\n",
    "\n",
    "# Load the shapefiles\n",
    "points_8L = gpd.read_file(r\"D:\\CECO\\Boipariguda\\Training_points\\updated_points_with_indices_8L.shp\")  \n",
    "points_1L = gpd.read_file(r\"D:\\CECO\\Boipariguda\\Training_points\\updated_points_with_indices_1.5L.shp\")  \n",
    "\n",
    "# Print the CRS before transformation\n",
    "print(\"CRS of 8L points:\", points_8L.crs)\n",
    "print(\"CRS of 1L points:\", points_1L.crs)\n"
   ]
  },
  {
   "cell_type": "code",
   "execution_count": 9,
   "id": "2abfad5e-8260-4683-b8b8-3ee6238822b7",
   "metadata": {},
   "outputs": [
    {
     "data": {
      "text/plain": [
       "(878421, 15)"
      ]
     },
     "execution_count": 9,
     "metadata": {},
     "output_type": "execute_result"
    }
   ],
   "source": [
    "points_8L.shape"
   ]
  },
  {
   "cell_type": "code",
   "execution_count": 10,
   "id": "f939fa8c-bb19-40d3-b257-5b6d34f7675d",
   "metadata": {},
   "outputs": [
    {
     "data": {
      "text/plain": [
       "(152888, 15)"
      ]
     },
     "execution_count": 10,
     "metadata": {},
     "output_type": "execute_result"
    }
   ],
   "source": [
    "points_1L.shape"
   ]
  },
  {
   "cell_type": "code",
   "execution_count": 11,
   "id": "f9ca4461-f3f6-43a9-b2de-36e019efe3e0",
   "metadata": {},
   "outputs": [
    {
     "data": {
      "text/plain": [
       "725533"
      ]
     },
     "execution_count": 11,
     "metadata": {},
     "output_type": "execute_result"
    }
   ],
   "source": [
    "878421-152888"
   ]
  },
  {
   "cell_type": "code",
   "execution_count": 7,
   "id": "147eba16-19bb-436d-aa09-89a9474ad73e",
   "metadata": {},
   "outputs": [
    {
     "data": {
      "text/plain": [
       "(725023, 15)"
      ]
     },
     "execution_count": 7,
     "metadata": {},
     "output_type": "execute_result"
    }
   ],
   "source": [
    "\n",
    "# Remove points that have the same geometry as in 1L dataset\n",
    "filtered_points = points_8L[~points_8L.geometry.isin(points_1L.geometry)]\n",
    "filtered_points.shape\n"
   ]
  },
  {
   "cell_type": "code",
   "execution_count": 8,
   "id": "bf68fab5-2952-4700-821a-57fe0b867970",
   "metadata": {},
   "outputs": [
    {
     "data": {
      "text/html": [
       "<div>\n",
       "<style scoped>\n",
       "    .dataframe tbody tr th:only-of-type {\n",
       "        vertical-align: middle;\n",
       "    }\n",
       "\n",
       "    .dataframe tbody tr th {\n",
       "        vertical-align: top;\n",
       "    }\n",
       "\n",
       "    .dataframe thead th {\n",
       "        text-align: right;\n",
       "    }\n",
       "</style>\n",
       "<table border=\"1\" class=\"dataframe\">\n",
       "  <thead>\n",
       "    <tr style=\"text-align: right;\">\n",
       "      <th></th>\n",
       "      <th>Unique_ID</th>\n",
       "      <th>CROP_NAME</th>\n",
       "      <th>NDVI</th>\n",
       "      <th>EVI</th>\n",
       "      <th>SAVI</th>\n",
       "      <th>GCI</th>\n",
       "      <th>ARVI</th>\n",
       "      <th>MSAVI2</th>\n",
       "      <th>MTVI2</th>\n",
       "      <th>TGI</th>\n",
       "      <th>BLUE</th>\n",
       "      <th>GREEN</th>\n",
       "      <th>RED</th>\n",
       "      <th>NIR</th>\n",
       "      <th>geometry</th>\n",
       "    </tr>\n",
       "  </thead>\n",
       "  <tbody>\n",
       "    <tr>\n",
       "      <th>7642</th>\n",
       "      <td>7643</td>\n",
       "      <td>Maize</td>\n",
       "      <td>0.796971</td>\n",
       "      <td>2.103948</td>\n",
       "      <td>1.195315</td>\n",
       "      <td>4.692654</td>\n",
       "      <td>0.750173</td>\n",
       "      <td>0.887003</td>\n",
       "      <td>0.859484</td>\n",
       "      <td>29390.0</td>\n",
       "      <td>316.0</td>\n",
       "      <td>667.0</td>\n",
       "      <td>429.0</td>\n",
       "      <td>3797.0</td>\n",
       "      <td>POINT (25997.016 2079698.457)</td>\n",
       "    </tr>\n",
       "  </tbody>\n",
       "</table>\n",
       "</div>"
      ],
      "text/plain": [
       "      Unique_ID CROP_NAME      NDVI       EVI      SAVI       GCI      ARVI  \\\n",
       "7642       7643     Maize  0.796971  2.103948  1.195315  4.692654  0.750173   \n",
       "\n",
       "        MSAVI2     MTVI2      TGI   BLUE  GREEN    RED     NIR  \\\n",
       "7642  0.887003  0.859484  29390.0  316.0  667.0  429.0  3797.0   \n",
       "\n",
       "                           geometry  \n",
       "7642  POINT (25997.016 2079698.457)  "
      ]
     },
     "execution_count": 8,
     "metadata": {},
     "output_type": "execute_result"
    }
   ],
   "source": [
    "filtered_points.head(1)"
   ]
  },
  {
   "cell_type": "markdown",
   "id": "913c289c-a452-4c4d-9839-13ac8a5b338d",
   "metadata": {},
   "source": [
    "- 510 extra points were removed"
   ]
  },
  {
   "cell_type": "code",
   "execution_count": 14,
   "id": "3caf9fc3-a365-4339-bfc1-c2e13fb99844",
   "metadata": {},
   "outputs": [
    {
     "name": "stdout",
     "output_type": "stream",
     "text": [
      "750116\n"
     ]
    }
   ],
   "source": [
    "print(points_8L.geometry.duplicated().sum())  # Count duplicates\n"
   ]
  },
  {
   "cell_type": "code",
   "execution_count": 12,
   "id": "93478706-be60-44c8-88ed-369126cff252",
   "metadata": {},
   "outputs": [
    {
     "name": "stdout",
     "output_type": "stream",
     "text": [
      "130002\n"
     ]
    }
   ],
   "source": [
    "print(points_1L.geometry.duplicated().sum())  # Count duplicates\n"
   ]
  },
  {
   "cell_type": "code",
   "execution_count": 15,
   "id": "97547919-0660-4c1b-9d35-40fb9e9b893f",
   "metadata": {},
   "outputs": [
    {
     "name": "stdout",
     "output_type": "stream",
     "text": [
      "Unique geometries in 8L: (128305, 15)\n",
      "Unique geometries in 1L: (22886, 15)\n",
      "Final filtered points shape: (105419, 15)\n"
     ]
    }
   ],
   "source": [
    "# Drop duplicate geometries to ensure uniqueness\n",
    "points_8L1 = points_8L.drop_duplicates(subset=\"geometry\").reset_index(drop=True)\n",
    "points_1L1 = points_1L.drop_duplicates(subset=\"geometry\").reset_index(drop=True)\n",
    "\n",
    "# Print new counts after removing duplicates\n",
    "print(\"Unique geometries in 8L:\", points_8L1.shape)\n",
    "print(\"Unique geometries in 1L:\", points_1L1.shape)\n",
    "\n",
    "# Remove points that have the same geometry as in the 1L dataset\n",
    "filtered_points1 = points_8L1[~points_8L1.geometry.isin(points_1L1.geometry)]\n",
    "\n",
    "# Print final count after filtering\n",
    "print(\"Final filtered points shape:\", filtered_points1.shape)"
   ]
  },
  {
   "cell_type": "code",
   "execution_count": 16,
   "id": "f837e438-b4ec-40d7-8114-8b3fcf2f1420",
   "metadata": {},
   "outputs": [
    {
     "data": {
      "text/plain": [
       "105419"
      ]
     },
     "execution_count": 16,
     "metadata": {},
     "output_type": "execute_result"
    }
   ],
   "source": [
    "128305-22886"
   ]
  },
  {
   "cell_type": "code",
   "execution_count": null,
   "id": "29956a76-35a7-4b1f-9cf3-408634f3ee10",
   "metadata": {},
   "outputs": [],
   "source": []
  },
  {
   "cell_type": "code",
   "execution_count": null,
   "id": "730848a0-401a-4bab-a301-62469ee4945e",
   "metadata": {},
   "outputs": [],
   "source": []
  },
  {
   "cell_type": "code",
   "execution_count": 18,
   "id": "d8a4105f-1bc8-421d-9810-10faae578360",
   "metadata": {},
   "outputs": [
    {
     "name": "stdout",
     "output_type": "stream",
     "text": [
      "Final filtered points shape: (725533, 15)\n"
     ]
    }
   ],
   "source": [
    "# Remove points that have the same Unique_ID as in 1L dataset\n",
    "filtered_points2 = points_8L[~points_8L[\"Unique_ID\"].isin(points_1L[\"Unique_ID\"])]\n",
    "\n",
    "print(\"Final filtered points shape:\", filtered_points2.shape)\n"
   ]
  },
  {
   "cell_type": "code",
   "execution_count": 20,
   "id": "a178532b-9795-4899-8fd8-30319e2ca000",
   "metadata": {},
   "outputs": [
    {
     "data": {
      "text/html": [
       "<div>\n",
       "<style scoped>\n",
       "    .dataframe tbody tr th:only-of-type {\n",
       "        vertical-align: middle;\n",
       "    }\n",
       "\n",
       "    .dataframe tbody tr th {\n",
       "        vertical-align: top;\n",
       "    }\n",
       "\n",
       "    .dataframe thead th {\n",
       "        text-align: right;\n",
       "    }\n",
       "</style>\n",
       "<table border=\"1\" class=\"dataframe\">\n",
       "  <thead>\n",
       "    <tr style=\"text-align: right;\">\n",
       "      <th></th>\n",
       "      <th>Unique_ID</th>\n",
       "      <th>CROP_NAME</th>\n",
       "      <th>NDVI</th>\n",
       "      <th>EVI</th>\n",
       "      <th>SAVI</th>\n",
       "      <th>GCI</th>\n",
       "      <th>ARVI</th>\n",
       "      <th>MSAVI2</th>\n",
       "      <th>MTVI2</th>\n",
       "      <th>TGI</th>\n",
       "      <th>BLUE</th>\n",
       "      <th>GREEN</th>\n",
       "      <th>RED</th>\n",
       "      <th>NIR</th>\n",
       "      <th>geometry</th>\n",
       "    </tr>\n",
       "  </thead>\n",
       "  <tbody>\n",
       "    <tr>\n",
       "      <th>152888</th>\n",
       "      <td>152889</td>\n",
       "      <td>Millets</td>\n",
       "      <td>0.7532</td>\n",
       "      <td>1.884931</td>\n",
       "      <td>1.129656</td>\n",
       "      <td>3.722759</td>\n",
       "      <td>0.684211</td>\n",
       "      <td>0.859211</td>\n",
       "      <td>0.842562</td>\n",
       "      <td>32685.0</td>\n",
       "      <td>322.0</td>\n",
       "      <td>725.0</td>\n",
       "      <td>482.0</td>\n",
       "      <td>3424.0</td>\n",
       "      <td>POINT (18531.529 2071053.786)</td>\n",
       "    </tr>\n",
       "  </tbody>\n",
       "</table>\n",
       "</div>"
      ],
      "text/plain": [
       "        Unique_ID CROP_NAME    NDVI       EVI      SAVI       GCI      ARVI  \\\n",
       "152888     152889   Millets  0.7532  1.884931  1.129656  3.722759  0.684211   \n",
       "\n",
       "          MSAVI2     MTVI2      TGI   BLUE  GREEN    RED     NIR  \\\n",
       "152888  0.859211  0.842562  32685.0  322.0  725.0  482.0  3424.0   \n",
       "\n",
       "                             geometry  \n",
       "152888  POINT (18531.529 2071053.786)  "
      ]
     },
     "execution_count": 20,
     "metadata": {},
     "output_type": "execute_result"
    }
   ],
   "source": [
    "filtered_points2.head(1)"
   ]
  },
  {
   "cell_type": "code",
   "execution_count": null,
   "id": "23e2a169-ba14-48b1-b094-654f79308278",
   "metadata": {},
   "outputs": [],
   "source": []
  },
  {
   "cell_type": "code",
   "execution_count": null,
   "id": "2eb6cd46-e493-4608-8ccd-b1d587d2797c",
   "metadata": {},
   "outputs": [],
   "source": []
  },
  {
   "cell_type": "code",
   "execution_count": null,
   "id": "0b06144f-c042-4cfd-b414-6d396ebed039",
   "metadata": {},
   "outputs": [],
   "source": []
  },
  {
   "cell_type": "code",
   "execution_count": null,
   "id": "5eab8971-f5eb-433c-9636-4c7c75b84efc",
   "metadata": {},
   "outputs": [],
   "source": []
  },
  {
   "cell_type": "code",
   "execution_count": 19,
   "id": "d19a531d-de12-4899-a008-bc0cbc2885db",
   "metadata": {},
   "outputs": [
    {
     "name": "stdout",
     "output_type": "stream",
     "text": [
      "Filtered shapefile with 7L points saved successfully!\n"
     ]
    }
   ],
   "source": [
    "# Save the result as a new shapefile with 7L points\n",
    "filtered_points2.to_file(r\"D:\\CECO\\Boipariguda\\Training_points\\Differenced_points\\filtered_points_7L.shp\")\n",
    "\n",
    "print(\"Filtered shapefile with 7L points saved successfully!\")\n"
   ]
  },
  {
   "cell_type": "code",
   "execution_count": null,
   "id": "d4e69699-891e-4f2c-8847-1902b3ba9bd3",
   "metadata": {},
   "outputs": [],
   "source": []
  },
  {
   "cell_type": "code",
   "execution_count": null,
   "id": "d63a093b-55b5-48c7-94d6-24c50dde0dda",
   "metadata": {},
   "outputs": [],
   "source": []
  }
 ],
 "metadata": {
  "kernelspec": {
   "display_name": "Python 3 (ipykernel)",
   "language": "python",
   "name": "python3"
  },
  "language_info": {
   "codemirror_mode": {
    "name": "ipython",
    "version": 3
   },
   "file_extension": ".py",
   "mimetype": "text/x-python",
   "name": "python",
   "nbconvert_exporter": "python",
   "pygments_lexer": "ipython3",
   "version": "3.11.9"
  }
 },
 "nbformat": 4,
 "nbformat_minor": 5
}
